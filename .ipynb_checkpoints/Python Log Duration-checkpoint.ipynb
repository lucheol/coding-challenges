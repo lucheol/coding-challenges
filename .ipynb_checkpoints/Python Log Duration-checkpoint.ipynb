{
 "cells": [
  {
   "cell_type": "code",
   "execution_count": 158,
   "metadata": {},
   "outputs": [],
   "source": [
    "from functools import wraps\n",
    "from math import floor\n",
    "import datetime\n",
    "import time\n",
    "\n",
    "def format_duration(s):\n",
    "    # This function receives the duration in seconds and returns it in a human-readable way. \n",
    "    duration = datetime.timedelta(seconds=s)\n",
    "    data = {}\n",
    "    data['days'], remaining = divmod(duration.total_seconds(), 86_400)\n",
    "    data['hours'], remaining = divmod(remaining, 3_600)\n",
    "    data['minutes'], data['seconds'] = divmod(remaining, 60)\n",
    "\n",
    "    t_parts = ((name, round(value)) for name, value in data.items())\n",
    "    t_parts = [f'{value} {name[:-1] if value == 1 else name}' for name, value in t_parts if value > 0]\n",
    "    \n",
    "    return ' '.join(t_parts) if t_parts else f'{duration.microseconds/1000} milliseconds'\n",
    "\n",
    "def log_duration(func):\n",
    "    # This decorator can be used to measure how long a function takes to run.\n",
    "    @wraps(func)\n",
    "    def wrap(*args, **kwargs):\n",
    "        start_time = time.time()\n",
    "        result = func(*args, **kwargs)\n",
    "        end_time = time.time()\n",
    "        duration = end_time - start_time\n",
    "        print(f'func:{func.__name__} with args:[{args}, {kwargs}] took: {format_duration(duration)}')\n",
    "        return result\n",
    "    return wrap"
   ]
  },
  {
   "cell_type": "code",
   "execution_count": 164,
   "metadata": {},
   "outputs": [],
   "source": [
    "# We can use the log_duration as a decorator\n",
    "@log_duration\n",
    "def test(x,y, sleep_interval):\n",
    "    time.sleep(sleep_interval)\n",
    "    return x + y"
   ]
  },
  {
   "cell_type": "code",
   "execution_count": 160,
   "metadata": {},
   "outputs": [
    {
     "name": "stdout",
     "output_type": "stream",
     "text": [
      "func:test with args:[(2, 3, 0.4), {}] took: 402.934 milliseconds\n"
     ]
    },
    {
     "data": {
      "text/plain": [
       "5"
      ]
     },
     "execution_count": 160,
     "metadata": {},
     "output_type": "execute_result"
    }
   ],
   "source": [
    "test(2,3,0.4)"
   ]
  },
  {
   "cell_type": "code",
   "execution_count": 132,
   "metadata": {},
   "outputs": [
    {
     "name": "stdout",
     "output_type": "stream",
     "text": [
      "func:test with args:[(2, 3, 90), {}] took: 1 minute 30 seconds\n"
     ]
    },
    {
     "data": {
      "text/plain": [
       "5"
      ]
     },
     "execution_count": 132,
     "metadata": {},
     "output_type": "execute_result"
    }
   ],
   "source": [
    "test(2,3,90)"
   ]
  },
  {
   "cell_type": "code",
   "execution_count": 165,
   "metadata": {},
   "outputs": [
    {
     "name": "stdout",
     "output_type": "stream",
     "text": [
      "func:test2 with args:[(1, 2), {}] took: 3 seconds\n"
     ]
    },
    {
     "data": {
      "text/plain": [
       "3"
      ]
     },
     "execution_count": 165,
     "metadata": {},
     "output_type": "execute_result"
    }
   ],
   "source": [
    "# We also can call log_duration directly\n",
    "def test2(x, y):\n",
    "    time.sleep(3)\n",
    "    return x + y\n",
    "log_duration(test2)(1,2)"
   ]
  },
  {
   "cell_type": "code",
   "execution_count": null,
   "metadata": {},
   "outputs": [],
   "source": []
  }
 ],
 "metadata": {
  "kernelspec": {
   "display_name": "Python 3",
   "language": "python",
   "name": "python3"
  },
  "language_info": {
   "codemirror_mode": {
    "name": "ipython",
    "version": 3
   },
   "file_extension": ".py",
   "mimetype": "text/x-python",
   "name": "python",
   "nbconvert_exporter": "python",
   "pygments_lexer": "ipython3",
   "version": "3.8.5"
  }
 },
 "nbformat": 4,
 "nbformat_minor": 4
}
